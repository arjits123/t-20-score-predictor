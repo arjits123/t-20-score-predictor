{
 "cells": [
  {
   "cell_type": "code",
   "execution_count": 1,
   "id": "af75f4ea",
   "metadata": {},
   "outputs": [],
   "source": [
    "import numpy as np\n",
    "import pandas as pd\n",
    "from yaml import safe_load, YAMLError\n",
    "import os\n",
    "from tqdm import tqdm"
   ]
  },
  {
   "cell_type": "code",
   "execution_count": 2,
   "id": "f9faaad2",
   "metadata": {},
   "outputs": [],
   "source": [
    "file_names = []\n",
    "for file in os.listdir('t20s'):\n",
    "    file_names.append(os.path.join('t20s',file))"
   ]
  },
  {
   "cell_type": "code",
   "execution_count": 3,
   "id": "59467715",
   "metadata": {},
   "outputs": [
    {
     "data": {
      "text/plain": [
       "1433"
      ]
     },
     "execution_count": 3,
     "metadata": {},
     "output_type": "execute_result"
    }
   ],
   "source": [
    "len(file_names)"
   ]
  },
  {
   "cell_type": "code",
   "execution_count": 4,
   "id": "a53c965e",
   "metadata": {},
   "outputs": [
    {
     "data": {
      "text/plain": [
       "'t20s/README.txt'"
      ]
     },
     "execution_count": 4,
     "metadata": {},
     "output_type": "execute_result"
    }
   ],
   "source": [
    "file_names.pop(1074)"
   ]
  },
  {
   "cell_type": "code",
   "execution_count": 5,
   "id": "16030eea",
   "metadata": {},
   "outputs": [
    {
     "data": {
      "text/plain": [
       "1432"
      ]
     },
     "execution_count": 5,
     "metadata": {},
     "output_type": "execute_result"
    }
   ],
   "source": [
    "len(file_names)"
   ]
  },
  {
   "cell_type": "code",
   "execution_count": 6,
   "id": "f5f8d37c",
   "metadata": {},
   "outputs": [
    {
     "name": "stderr",
     "output_type": "stream",
     "text": [
      "100%|███████████████████████████████████████| 1432/1432 [03:47<00:00,  6.29it/s]\n"
     ]
    }
   ],
   "source": [
    "counter = 1\n",
    "final_df = pd.DataFrame()\n",
    "for f in tqdm(file_names):\n",
    "    with open(f, 'r') as file:\n",
    "        data = safe_load(file)\n",
    "        df = pd.json_normalize(data)\n",
    "        df['match_id']  = counter\n",
    "        final_df = pd.concat([final_df, df], ignore_index=True)\n",
    "        counter +=1"
   ]
  },
  {
   "cell_type": "code",
   "execution_count": 7,
   "id": "e10963d3",
   "metadata": {},
   "outputs": [
    {
     "data": {
      "text/html": [
       "<div>\n",
       "<style scoped>\n",
       "    .dataframe tbody tr th:only-of-type {\n",
       "        vertical-align: middle;\n",
       "    }\n",
       "\n",
       "    .dataframe tbody tr th {\n",
       "        vertical-align: top;\n",
       "    }\n",
       "\n",
       "    .dataframe thead th {\n",
       "        text-align: right;\n",
       "    }\n",
       "</style>\n",
       "<table border=\"1\" class=\"dataframe\">\n",
       "  <thead>\n",
       "    <tr style=\"text-align: right;\">\n",
       "      <th></th>\n",
       "      <th>innings</th>\n",
       "      <th>meta.data_version</th>\n",
       "      <th>meta.created</th>\n",
       "      <th>meta.revision</th>\n",
       "      <th>info.city</th>\n",
       "      <th>info.dates</th>\n",
       "      <th>info.gender</th>\n",
       "      <th>info.match_type</th>\n",
       "      <th>info.match_type_number</th>\n",
       "      <th>info.outcome.winner</th>\n",
       "      <th>...</th>\n",
       "      <th>match_id</th>\n",
       "      <th>info.outcome.by.runs</th>\n",
       "      <th>info.neutral_venue</th>\n",
       "      <th>info.outcome.method</th>\n",
       "      <th>info.outcome.result</th>\n",
       "      <th>info.outcome.eliminator</th>\n",
       "      <th>info.bowl_out</th>\n",
       "      <th>info.outcome.bowl_out</th>\n",
       "      <th>info.supersubs.New Zealand</th>\n",
       "      <th>info.supersubs.South Africa</th>\n",
       "    </tr>\n",
       "  </thead>\n",
       "  <tbody>\n",
       "    <tr>\n",
       "      <th>0</th>\n",
       "      <td>[{'1st innings': {'team': 'West Indies', 'deli...</td>\n",
       "      <td>0.9</td>\n",
       "      <td>2020-03-01</td>\n",
       "      <td>1</td>\n",
       "      <td>Canberra</td>\n",
       "      <td>[2020-02-26]</td>\n",
       "      <td>female</td>\n",
       "      <td>T20</td>\n",
       "      <td>853.0</td>\n",
       "      <td>Pakistan</td>\n",
       "      <td>...</td>\n",
       "      <td>1</td>\n",
       "      <td>NaN</td>\n",
       "      <td>NaN</td>\n",
       "      <td>NaN</td>\n",
       "      <td>NaN</td>\n",
       "      <td>NaN</td>\n",
       "      <td>NaN</td>\n",
       "      <td>NaN</td>\n",
       "      <td>NaN</td>\n",
       "      <td>NaN</td>\n",
       "    </tr>\n",
       "    <tr>\n",
       "      <th>1</th>\n",
       "      <td>[{'1st innings': {'team': 'India', 'deliveries...</td>\n",
       "      <td>0.9</td>\n",
       "      <td>2016-03-17</td>\n",
       "      <td>2</td>\n",
       "      <td>Bangalore</td>\n",
       "      <td>[2016-03-15]</td>\n",
       "      <td>female</td>\n",
       "      <td>T20</td>\n",
       "      <td>NaN</td>\n",
       "      <td>India</td>\n",
       "      <td>...</td>\n",
       "      <td>2</td>\n",
       "      <td>72.0</td>\n",
       "      <td>NaN</td>\n",
       "      <td>NaN</td>\n",
       "      <td>NaN</td>\n",
       "      <td>NaN</td>\n",
       "      <td>NaN</td>\n",
       "      <td>NaN</td>\n",
       "      <td>NaN</td>\n",
       "      <td>NaN</td>\n",
       "    </tr>\n",
       "    <tr>\n",
       "      <th>2</th>\n",
       "      <td>[{'1st innings': {'team': 'West Indies', 'deli...</td>\n",
       "      <td>0.9</td>\n",
       "      <td>2019-08-06</td>\n",
       "      <td>1</td>\n",
       "      <td>Lauderhill</td>\n",
       "      <td>[2019-08-03]</td>\n",
       "      <td>male</td>\n",
       "      <td>T20</td>\n",
       "      <td>842.0</td>\n",
       "      <td>India</td>\n",
       "      <td>...</td>\n",
       "      <td>3</td>\n",
       "      <td>NaN</td>\n",
       "      <td>NaN</td>\n",
       "      <td>NaN</td>\n",
       "      <td>NaN</td>\n",
       "      <td>NaN</td>\n",
       "      <td>NaN</td>\n",
       "      <td>NaN</td>\n",
       "      <td>NaN</td>\n",
       "      <td>NaN</td>\n",
       "    </tr>\n",
       "    <tr>\n",
       "      <th>3</th>\n",
       "      <td>[{'1st innings': {'team': 'West Indies', 'deli...</td>\n",
       "      <td>0.9</td>\n",
       "      <td>2012-04-16</td>\n",
       "      <td>2</td>\n",
       "      <td>St Lucia</td>\n",
       "      <td>[2012-03-27]</td>\n",
       "      <td>male</td>\n",
       "      <td>T20</td>\n",
       "      <td>NaN</td>\n",
       "      <td>Australia</td>\n",
       "      <td>...</td>\n",
       "      <td>4</td>\n",
       "      <td>NaN</td>\n",
       "      <td>NaN</td>\n",
       "      <td>NaN</td>\n",
       "      <td>NaN</td>\n",
       "      <td>NaN</td>\n",
       "      <td>NaN</td>\n",
       "      <td>NaN</td>\n",
       "      <td>NaN</td>\n",
       "      <td>NaN</td>\n",
       "    </tr>\n",
       "    <tr>\n",
       "      <th>4</th>\n",
       "      <td>[{'1st innings': {'team': 'India', 'deliveries...</td>\n",
       "      <td>0.9</td>\n",
       "      <td>2017-02-13</td>\n",
       "      <td>1</td>\n",
       "      <td>Bangalore</td>\n",
       "      <td>[2017-02-01]</td>\n",
       "      <td>male</td>\n",
       "      <td>T20</td>\n",
       "      <td>NaN</td>\n",
       "      <td>India</td>\n",
       "      <td>...</td>\n",
       "      <td>5</td>\n",
       "      <td>75.0</td>\n",
       "      <td>NaN</td>\n",
       "      <td>NaN</td>\n",
       "      <td>NaN</td>\n",
       "      <td>NaN</td>\n",
       "      <td>NaN</td>\n",
       "      <td>NaN</td>\n",
       "      <td>NaN</td>\n",
       "      <td>NaN</td>\n",
       "    </tr>\n",
       "  </tbody>\n",
       "</table>\n",
       "<p>5 rows × 28 columns</p>\n",
       "</div>"
      ],
      "text/plain": [
       "                                             innings  meta.data_version  \\\n",
       "0  [{'1st innings': {'team': 'West Indies', 'deli...                0.9   \n",
       "1  [{'1st innings': {'team': 'India', 'deliveries...                0.9   \n",
       "2  [{'1st innings': {'team': 'West Indies', 'deli...                0.9   \n",
       "3  [{'1st innings': {'team': 'West Indies', 'deli...                0.9   \n",
       "4  [{'1st innings': {'team': 'India', 'deliveries...                0.9   \n",
       "\n",
       "  meta.created  meta.revision   info.city    info.dates info.gender  \\\n",
       "0   2020-03-01              1    Canberra  [2020-02-26]      female   \n",
       "1   2016-03-17              2   Bangalore  [2016-03-15]      female   \n",
       "2   2019-08-06              1  Lauderhill  [2019-08-03]        male   \n",
       "3   2012-04-16              2    St Lucia  [2012-03-27]        male   \n",
       "4   2017-02-13              1   Bangalore  [2017-02-01]        male   \n",
       "\n",
       "  info.match_type  info.match_type_number info.outcome.winner  ...  match_id  \\\n",
       "0             T20                   853.0            Pakistan  ...         1   \n",
       "1             T20                     NaN               India  ...         2   \n",
       "2             T20                   842.0               India  ...         3   \n",
       "3             T20                     NaN           Australia  ...         4   \n",
       "4             T20                     NaN               India  ...         5   \n",
       "\n",
       "   info.outcome.by.runs info.neutral_venue info.outcome.method  \\\n",
       "0                   NaN                NaN                 NaN   \n",
       "1                  72.0                NaN                 NaN   \n",
       "2                   NaN                NaN                 NaN   \n",
       "3                   NaN                NaN                 NaN   \n",
       "4                  75.0                NaN                 NaN   \n",
       "\n",
       "  info.outcome.result info.outcome.eliminator info.bowl_out  \\\n",
       "0                 NaN                     NaN           NaN   \n",
       "1                 NaN                     NaN           NaN   \n",
       "2                 NaN                     NaN           NaN   \n",
       "3                 NaN                     NaN           NaN   \n",
       "4                 NaN                     NaN           NaN   \n",
       "\n",
       "  info.outcome.bowl_out  info.supersubs.New Zealand  \\\n",
       "0                   NaN                         NaN   \n",
       "1                   NaN                         NaN   \n",
       "2                   NaN                         NaN   \n",
       "3                   NaN                         NaN   \n",
       "4                   NaN                         NaN   \n",
       "\n",
       "   info.supersubs.South Africa  \n",
       "0                          NaN  \n",
       "1                          NaN  \n",
       "2                          NaN  \n",
       "3                          NaN  \n",
       "4                          NaN  \n",
       "\n",
       "[5 rows x 28 columns]"
      ]
     },
     "execution_count": 7,
     "metadata": {},
     "output_type": "execute_result"
    }
   ],
   "source": [
    "backup =  final_df.copy()"
   ]
  },
  {
   "cell_type": "code",
   "execution_count": 8,
   "id": "e38c2601",
   "metadata": {},
   "outputs": [
    {
     "name": "stdout",
     "output_type": "stream",
     "text": [
      "<class 'pandas.core.frame.DataFrame'>\n",
      "RangeIndex: 1432 entries, 0 to 1431\n",
      "Data columns (total 28 columns):\n",
      " #   Column                       Non-Null Count  Dtype  \n",
      "---  ------                       --------------  -----  \n",
      " 0   innings                      1432 non-null   object \n",
      " 1   meta.data_version            1432 non-null   float64\n",
      " 2   meta.created                 1432 non-null   object \n",
      " 3   meta.revision                1432 non-null   int64  \n",
      " 4   info.city                    1240 non-null   object \n",
      " 5   info.dates                   1432 non-null   object \n",
      " 6   info.gender                  1432 non-null   object \n",
      " 7   info.match_type              1432 non-null   object \n",
      " 8   info.match_type_number       699 non-null    float64\n",
      " 9   info.outcome.winner          1386 non-null   object \n",
      " 10  info.outcome.by.wickets      662 non-null    float64\n",
      " 11  info.overs                   1432 non-null   int64  \n",
      " 12  info.player_of_match         1269 non-null   object \n",
      " 13  info.teams                   1432 non-null   object \n",
      " 14  info.toss.decision           1432 non-null   object \n",
      " 15  info.toss.winner             1432 non-null   object \n",
      " 16  info.umpires                 1410 non-null   object \n",
      " 17  info.venue                   1432 non-null   object \n",
      " 18  match_id                     1432 non-null   int64  \n",
      " 19  info.outcome.by.runs         724 non-null    float64\n",
      " 20  info.neutral_venue           328 non-null    float64\n",
      " 21  info.outcome.method          51 non-null     object \n",
      " 22  info.outcome.result          46 non-null     object \n",
      " 23  info.outcome.eliminator      16 non-null     object \n",
      " 24  info.bowl_out                2 non-null      object \n",
      " 25  info.outcome.bowl_out        2 non-null      object \n",
      " 26  info.supersubs.New Zealand   1 non-null      object \n",
      " 27  info.supersubs.South Africa  1 non-null      object \n",
      "dtypes: float64(5), int64(3), object(20)\n",
      "memory usage: 313.4+ KB\n"
     ]
    }
   ],
   "source": [
    "final_df.info()"
   ]
  },
  {
   "cell_type": "code",
   "execution_count": 9,
   "id": "8bdcc0c5",
   "metadata": {},
   "outputs": [],
   "source": [
    "final_df.drop(columns=[\n",
    "    'meta.data_version',\n",
    "    'meta.created',\n",
    "    'meta.revision',\n",
    "    'info.outcome.bowl_out',\n",
    "    'info.bowl_out',\n",
    "    'info.supersubs.South Africa',\n",
    "    'info.supersubs.New Zealand',\n",
    "    'info.outcome.eliminator',\n",
    "    'info.outcome.result',\n",
    "    'info.outcome.method',\n",
    "    'info.neutral_venue',\n",
    "    'info.match_type_number',\n",
    "    'info.outcome.by.runs',\n",
    "    'info.outcome.by.wickets'\n",
    "],inplace=True)"
   ]
  },
  {
   "cell_type": "code",
   "execution_count": 10,
   "id": "13461711",
   "metadata": {},
   "outputs": [
    {
     "name": "stdout",
     "output_type": "stream",
     "text": [
      "<class 'pandas.core.frame.DataFrame'>\n",
      "RangeIndex: 1432 entries, 0 to 1431\n",
      "Data columns (total 14 columns):\n",
      " #   Column                Non-Null Count  Dtype \n",
      "---  ------                --------------  ----- \n",
      " 0   innings               1432 non-null   object\n",
      " 1   info.city             1240 non-null   object\n",
      " 2   info.dates            1432 non-null   object\n",
      " 3   info.gender           1432 non-null   object\n",
      " 4   info.match_type       1432 non-null   object\n",
      " 5   info.outcome.winner   1386 non-null   object\n",
      " 6   info.overs            1432 non-null   int64 \n",
      " 7   info.player_of_match  1269 non-null   object\n",
      " 8   info.teams            1432 non-null   object\n",
      " 9   info.toss.decision    1432 non-null   object\n",
      " 10  info.toss.winner      1432 non-null   object\n",
      " 11  info.umpires          1410 non-null   object\n",
      " 12  info.venue            1432 non-null   object\n",
      " 13  match_id              1432 non-null   int64 \n",
      "dtypes: int64(2), object(12)\n",
      "memory usage: 156.8+ KB\n"
     ]
    }
   ],
   "source": [
    "final_df.info()\n"
   ]
  },
  {
   "cell_type": "code",
   "execution_count": 11,
   "id": "d7556b5c",
   "metadata": {},
   "outputs": [
    {
     "data": {
      "text/plain": [
       "male      966\n",
       "female    466\n",
       "Name: info.gender, dtype: int64"
      ]
     },
     "execution_count": 11,
     "metadata": {},
     "output_type": "execute_result"
    }
   ],
   "source": [
    "final_df['info.gender'].value_counts()"
   ]
  },
  {
   "cell_type": "code",
   "execution_count": 12,
   "id": "4283c04d",
   "metadata": {},
   "outputs": [],
   "source": [
    "final_df = final_df[final_df['info.gender']=='male']\n",
    "final_df.drop(columns=['info.gender'], inplace = True)"
   ]
  },
  {
   "cell_type": "code",
   "execution_count": 17,
   "id": "dc490adb",
   "metadata": {},
   "outputs": [
    {
     "data": {
      "text/plain": [
       "T20    966\n",
       "Name: info.match_type, dtype: int64"
      ]
     },
     "execution_count": 17,
     "metadata": {},
     "output_type": "execute_result"
    }
   ],
   "source": [
    "final_df['info.match_type'].value_counts()"
   ]
  },
  {
   "cell_type": "code",
   "execution_count": 18,
   "id": "9d5e39dd",
   "metadata": {},
   "outputs": [
    {
     "data": {
      "text/plain": [
       "20    963\n",
       "50      3\n",
       "Name: info.overs, dtype: int64"
      ]
     },
     "execution_count": 18,
     "metadata": {},
     "output_type": "execute_result"
    }
   ],
   "source": [
    "final_df['info.overs'].value_counts()"
   ]
  },
  {
   "cell_type": "code",
   "execution_count": 19,
   "id": "ce158470",
   "metadata": {},
   "outputs": [
    {
     "name": "stderr",
     "output_type": "stream",
     "text": [
      "/var/folders/2m/bcrsq2rn60n_0qbc80sw7mqm0000gn/T/ipykernel_40174/3877671917.py:2: SettingWithCopyWarning: \n",
      "A value is trying to be set on a copy of a slice from a DataFrame\n",
      "\n",
      "See the caveats in the documentation: https://pandas.pydata.org/pandas-docs/stable/user_guide/indexing.html#returning-a-view-versus-a-copy\n",
      "  final_df.drop(columns=['info.overs', 'info.match_type'], inplace = True)\n"
     ]
    },
    {
     "data": {
      "text/html": [
       "<div>\n",
       "<style scoped>\n",
       "    .dataframe tbody tr th:only-of-type {\n",
       "        vertical-align: middle;\n",
       "    }\n",
       "\n",
       "    .dataframe tbody tr th {\n",
       "        vertical-align: top;\n",
       "    }\n",
       "\n",
       "    .dataframe thead th {\n",
       "        text-align: right;\n",
       "    }\n",
       "</style>\n",
       "<table border=\"1\" class=\"dataframe\">\n",
       "  <thead>\n",
       "    <tr style=\"text-align: right;\">\n",
       "      <th></th>\n",
       "      <th>innings</th>\n",
       "      <th>info.city</th>\n",
       "      <th>info.dates</th>\n",
       "      <th>info.outcome.winner</th>\n",
       "      <th>info.player_of_match</th>\n",
       "      <th>info.teams</th>\n",
       "      <th>info.toss.decision</th>\n",
       "      <th>info.toss.winner</th>\n",
       "      <th>info.umpires</th>\n",
       "      <th>info.venue</th>\n",
       "      <th>match_id</th>\n",
       "    </tr>\n",
       "  </thead>\n",
       "  <tbody>\n",
       "    <tr>\n",
       "      <th>2</th>\n",
       "      <td>[{'1st innings': {'team': 'West Indies', 'deli...</td>\n",
       "      <td>Lauderhill</td>\n",
       "      <td>[2019-08-03]</td>\n",
       "      <td>India</td>\n",
       "      <td>[NA Saini]</td>\n",
       "      <td>[India, West Indies]</td>\n",
       "      <td>field</td>\n",
       "      <td>India</td>\n",
       "      <td>[N Duguid, GO Brathwaite]</td>\n",
       "      <td>Central Broward Regional Park Stadium Turf Ground</td>\n",
       "      <td>3</td>\n",
       "    </tr>\n",
       "    <tr>\n",
       "      <th>3</th>\n",
       "      <td>[{'1st innings': {'team': 'West Indies', 'deli...</td>\n",
       "      <td>St Lucia</td>\n",
       "      <td>[2012-03-27]</td>\n",
       "      <td>Australia</td>\n",
       "      <td>[SR Watson]</td>\n",
       "      <td>[West Indies, Australia]</td>\n",
       "      <td>bat</td>\n",
       "      <td>West Indies</td>\n",
       "      <td>[GO Brathwaite, PJ Nero]</td>\n",
       "      <td>Beausejour Stadium, Gros Islet</td>\n",
       "      <td>4</td>\n",
       "    </tr>\n",
       "    <tr>\n",
       "      <th>4</th>\n",
       "      <td>[{'1st innings': {'team': 'India', 'deliveries...</td>\n",
       "      <td>Bangalore</td>\n",
       "      <td>[2017-02-01]</td>\n",
       "      <td>India</td>\n",
       "      <td>[YS Chahal]</td>\n",
       "      <td>[India, England]</td>\n",
       "      <td>field</td>\n",
       "      <td>England</td>\n",
       "      <td>[AK Chaudhary, Nitin Menon]</td>\n",
       "      <td>M Chinnaswamy Stadium</td>\n",
       "      <td>5</td>\n",
       "    </tr>\n",
       "    <tr>\n",
       "      <th>5</th>\n",
       "      <td>[{'1st innings': {'team': 'England', 'deliveri...</td>\n",
       "      <td>Nottingham</td>\n",
       "      <td>[2009-06-11]</td>\n",
       "      <td>South Africa</td>\n",
       "      <td>[JH Kallis]</td>\n",
       "      <td>[England, South Africa]</td>\n",
       "      <td>bat</td>\n",
       "      <td>England</td>\n",
       "      <td>[SJ Davis, AL Hill]</td>\n",
       "      <td>Trent Bridge</td>\n",
       "      <td>6</td>\n",
       "    </tr>\n",
       "    <tr>\n",
       "      <th>6</th>\n",
       "      <td>[{'1st innings': {'team': 'South Africa', 'del...</td>\n",
       "      <td>Cape Town</td>\n",
       "      <td>[2020-12-01]</td>\n",
       "      <td>England</td>\n",
       "      <td>[DJ Malan]</td>\n",
       "      <td>[South Africa, England]</td>\n",
       "      <td>bat</td>\n",
       "      <td>South Africa</td>\n",
       "      <td>[A Paleker, BP Jele]</td>\n",
       "      <td>Newlands</td>\n",
       "      <td>7</td>\n",
       "    </tr>\n",
       "  </tbody>\n",
       "</table>\n",
       "</div>"
      ],
      "text/plain": [
       "                                             innings   info.city  \\\n",
       "2  [{'1st innings': {'team': 'West Indies', 'deli...  Lauderhill   \n",
       "3  [{'1st innings': {'team': 'West Indies', 'deli...    St Lucia   \n",
       "4  [{'1st innings': {'team': 'India', 'deliveries...   Bangalore   \n",
       "5  [{'1st innings': {'team': 'England', 'deliveri...  Nottingham   \n",
       "6  [{'1st innings': {'team': 'South Africa', 'del...   Cape Town   \n",
       "\n",
       "     info.dates info.outcome.winner info.player_of_match  \\\n",
       "2  [2019-08-03]               India           [NA Saini]   \n",
       "3  [2012-03-27]           Australia          [SR Watson]   \n",
       "4  [2017-02-01]               India          [YS Chahal]   \n",
       "5  [2009-06-11]        South Africa          [JH Kallis]   \n",
       "6  [2020-12-01]             England           [DJ Malan]   \n",
       "\n",
       "                 info.teams info.toss.decision info.toss.winner  \\\n",
       "2      [India, West Indies]              field            India   \n",
       "3  [West Indies, Australia]                bat      West Indies   \n",
       "4          [India, England]              field          England   \n",
       "5   [England, South Africa]                bat          England   \n",
       "6   [South Africa, England]                bat     South Africa   \n",
       "\n",
       "                  info.umpires  \\\n",
       "2    [N Duguid, GO Brathwaite]   \n",
       "3     [GO Brathwaite, PJ Nero]   \n",
       "4  [AK Chaudhary, Nitin Menon]   \n",
       "5          [SJ Davis, AL Hill]   \n",
       "6         [A Paleker, BP Jele]   \n",
       "\n",
       "                                          info.venue  match_id  \n",
       "2  Central Broward Regional Park Stadium Turf Ground         3  \n",
       "3                     Beausejour Stadium, Gros Islet         4  \n",
       "4                              M Chinnaswamy Stadium         5  \n",
       "5                                       Trent Bridge         6  \n",
       "6                                           Newlands         7  "
      ]
     },
     "execution_count": 19,
     "metadata": {},
     "output_type": "execute_result"
    }
   ],
   "source": [
    "final_df = final_df[final_df['info.overs'] == 20]\n",
    "final_df.drop(columns=['info.overs', 'info.match_type'], inplace = True)\n"
   ]
  },
  {
   "cell_type": "code",
   "execution_count": 22,
   "id": "15f22e5b",
   "metadata": {},
   "outputs": [],
   "source": [
    "import pickle\n",
    "pickle.dump(final_df,open('dataset_1.pkl', 'wb'))"
   ]
  },
  {
   "cell_type": "code",
   "execution_count": null,
   "id": "5ce8694f",
   "metadata": {},
   "outputs": [],
   "source": []
  }
 ],
 "metadata": {
  "kernelspec": {
   "display_name": "Python 3 (ipykernel)",
   "language": "python",
   "name": "python3"
  },
  "language_info": {
   "codemirror_mode": {
    "name": "ipython",
    "version": 3
   },
   "file_extension": ".py",
   "mimetype": "text/x-python",
   "name": "python",
   "nbconvert_exporter": "python",
   "pygments_lexer": "ipython3",
   "version": "3.9.12"
  }
 },
 "nbformat": 4,
 "nbformat_minor": 5
}
