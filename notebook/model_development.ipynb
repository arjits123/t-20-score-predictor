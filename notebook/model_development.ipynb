{
 "cells": [
  {
   "cell_type": "code",
   "execution_count": 37,
   "id": "a3829dfb",
   "metadata": {},
   "outputs": [],
   "source": [
    "import pandas as pd\n",
    "import numpy as np"
   ]
  },
  {
   "cell_type": "code",
   "execution_count": 38,
   "id": "1623bcdd",
   "metadata": {},
   "outputs": [],
   "source": [
    "df = pd.read_csv('final_df.csv')"
   ]
  },
  {
   "cell_type": "code",
   "execution_count": 39,
   "id": "d7f9d18d",
   "metadata": {},
   "outputs": [
    {
     "data": {
      "text/html": [
       "<div>\n",
       "<style scoped>\n",
       "    .dataframe tbody tr th:only-of-type {\n",
       "        vertical-align: middle;\n",
       "    }\n",
       "\n",
       "    .dataframe tbody tr th {\n",
       "        vertical-align: top;\n",
       "    }\n",
       "\n",
       "    .dataframe thead th {\n",
       "        text-align: right;\n",
       "    }\n",
       "</style>\n",
       "<table border=\"1\" class=\"dataframe\">\n",
       "  <thead>\n",
       "    <tr style=\"text-align: right;\">\n",
       "      <th></th>\n",
       "      <th>Unnamed: 0</th>\n",
       "      <th>batting_team</th>\n",
       "      <th>bowling_team</th>\n",
       "      <th>city</th>\n",
       "      <th>current_score</th>\n",
       "      <th>balls_left</th>\n",
       "      <th>wickets_left</th>\n",
       "      <th>current_run_rate</th>\n",
       "      <th>last_five_over_runs</th>\n",
       "      <th>final_score</th>\n",
       "    </tr>\n",
       "  </thead>\n",
       "  <tbody>\n",
       "    <tr>\n",
       "      <th>8130</th>\n",
       "      <td>48000</td>\n",
       "      <td>New Zealand</td>\n",
       "      <td>England</td>\n",
       "      <td>Wellington</td>\n",
       "      <td>196</td>\n",
       "      <td>0</td>\n",
       "      <td>5</td>\n",
       "      <td>9.800000</td>\n",
       "      <td>50.0</td>\n",
       "      <td>196</td>\n",
       "    </tr>\n",
       "    <tr>\n",
       "      <th>703</th>\n",
       "      <td>23870</td>\n",
       "      <td>Bangladesh</td>\n",
       "      <td>Australia</td>\n",
       "      <td>Bangalore</td>\n",
       "      <td>94</td>\n",
       "      <td>39</td>\n",
       "      <td>6</td>\n",
       "      <td>6.962963</td>\n",
       "      <td>44.0</td>\n",
       "      <td>156</td>\n",
       "    </tr>\n",
       "    <tr>\n",
       "      <th>28661</th>\n",
       "      <td>21754</td>\n",
       "      <td>West Indies</td>\n",
       "      <td>New Zealand</td>\n",
       "      <td>Lauderhill</td>\n",
       "      <td>98</td>\n",
       "      <td>45</td>\n",
       "      <td>9</td>\n",
       "      <td>7.840000</td>\n",
       "      <td>47.0</td>\n",
       "      <td>209</td>\n",
       "    </tr>\n",
       "    <tr>\n",
       "      <th>19405</th>\n",
       "      <td>42311</td>\n",
       "      <td>Australia</td>\n",
       "      <td>England</td>\n",
       "      <td>Barbados</td>\n",
       "      <td>59</td>\n",
       "      <td>48</td>\n",
       "      <td>6</td>\n",
       "      <td>4.916667</td>\n",
       "      <td>25.0</td>\n",
       "      <td>147</td>\n",
       "    </tr>\n",
       "  </tbody>\n",
       "</table>\n",
       "</div>"
      ],
      "text/plain": [
       "       Unnamed: 0 batting_team bowling_team        city  current_score  \\\n",
       "8130        48000  New Zealand      England  Wellington            196   \n",
       "703         23870   Bangladesh    Australia   Bangalore             94   \n",
       "28661       21754  West Indies  New Zealand  Lauderhill             98   \n",
       "19405       42311    Australia      England    Barbados             59   \n",
       "\n",
       "       balls_left  wickets_left  current_run_rate  last_five_over_runs  \\\n",
       "8130            0             5          9.800000                 50.0   \n",
       "703            39             6          6.962963                 44.0   \n",
       "28661          45             9          7.840000                 47.0   \n",
       "19405          48             6          4.916667                 25.0   \n",
       "\n",
       "       final_score  \n",
       "8130           196  \n",
       "703            156  \n",
       "28661          209  \n",
       "19405          147  "
      ]
     },
     "execution_count": 39,
     "metadata": {},
     "output_type": "execute_result"
    }
   ],
   "source": [
    "df.sample(4)"
   ]
  },
  {
   "cell_type": "code",
   "execution_count": 40,
   "id": "e7871d39",
   "metadata": {},
   "outputs": [],
   "source": [
    "df.drop(columns='Unnamed: 0', inplace=True)"
   ]
  },
  {
   "cell_type": "code",
   "execution_count": 41,
   "id": "791649eb",
   "metadata": {},
   "outputs": [
    {
     "data": {
      "text/html": [
       "<div>\n",
       "<style scoped>\n",
       "    .dataframe tbody tr th:only-of-type {\n",
       "        vertical-align: middle;\n",
       "    }\n",
       "\n",
       "    .dataframe tbody tr th {\n",
       "        vertical-align: top;\n",
       "    }\n",
       "\n",
       "    .dataframe thead th {\n",
       "        text-align: right;\n",
       "    }\n",
       "</style>\n",
       "<table border=\"1\" class=\"dataframe\">\n",
       "  <thead>\n",
       "    <tr style=\"text-align: right;\">\n",
       "      <th></th>\n",
       "      <th>batting_team</th>\n",
       "      <th>bowling_team</th>\n",
       "      <th>city</th>\n",
       "      <th>current_score</th>\n",
       "      <th>balls_left</th>\n",
       "      <th>wickets_left</th>\n",
       "      <th>current_run_rate</th>\n",
       "      <th>last_five_over_runs</th>\n",
       "      <th>final_score</th>\n",
       "    </tr>\n",
       "  </thead>\n",
       "  <tbody>\n",
       "    <tr>\n",
       "      <th>0</th>\n",
       "      <td>India</td>\n",
       "      <td>England</td>\n",
       "      <td>Colombo</td>\n",
       "      <td>168</td>\n",
       "      <td>-2</td>\n",
       "      <td>6</td>\n",
       "      <td>8.262295</td>\n",
       "      <td>51.0</td>\n",
       "      <td>170</td>\n",
       "    </tr>\n",
       "    <tr>\n",
       "      <th>1</th>\n",
       "      <td>Australia</td>\n",
       "      <td>India</td>\n",
       "      <td>Melbourne</td>\n",
       "      <td>74</td>\n",
       "      <td>42</td>\n",
       "      <td>5</td>\n",
       "      <td>5.692308</td>\n",
       "      <td>26.0</td>\n",
       "      <td>132</td>\n",
       "    </tr>\n",
       "    <tr>\n",
       "      <th>2</th>\n",
       "      <td>South Africa</td>\n",
       "      <td>India</td>\n",
       "      <td>Mirpur</td>\n",
       "      <td>81</td>\n",
       "      <td>51</td>\n",
       "      <td>8</td>\n",
       "      <td>7.043478</td>\n",
       "      <td>34.0</td>\n",
       "      <td>172</td>\n",
       "    </tr>\n",
       "    <tr>\n",
       "      <th>3</th>\n",
       "      <td>Sri Lanka</td>\n",
       "      <td>England</td>\n",
       "      <td>St Lucia</td>\n",
       "      <td>40</td>\n",
       "      <td>74</td>\n",
       "      <td>7</td>\n",
       "      <td>5.217391</td>\n",
       "      <td>21.0</td>\n",
       "      <td>128</td>\n",
       "    </tr>\n",
       "    <tr>\n",
       "      <th>4</th>\n",
       "      <td>Bangladesh</td>\n",
       "      <td>India</td>\n",
       "      <td>Colombo</td>\n",
       "      <td>110</td>\n",
       "      <td>30</td>\n",
       "      <td>5</td>\n",
       "      <td>7.333333</td>\n",
       "      <td>42.0</td>\n",
       "      <td>166</td>\n",
       "    </tr>\n",
       "  </tbody>\n",
       "</table>\n",
       "</div>"
      ],
      "text/plain": [
       "   batting_team bowling_team       city  current_score  balls_left  \\\n",
       "0         India      England    Colombo            168          -2   \n",
       "1     Australia        India  Melbourne             74          42   \n",
       "2  South Africa        India     Mirpur             81          51   \n",
       "3     Sri Lanka      England   St Lucia             40          74   \n",
       "4    Bangladesh        India    Colombo            110          30   \n",
       "\n",
       "   wickets_left  current_run_rate  last_five_over_runs  final_score  \n",
       "0             6          8.262295                 51.0          170  \n",
       "1             5          5.692308                 26.0          132  \n",
       "2             8          7.043478                 34.0          172  \n",
       "3             7          5.217391                 21.0          128  \n",
       "4             5          7.333333                 42.0          166  "
      ]
     },
     "execution_count": 41,
     "metadata": {},
     "output_type": "execute_result"
    }
   ],
   "source": [
    "df.head()"
   ]
  },
  {
   "cell_type": "code",
   "execution_count": 42,
   "id": "c9b10173",
   "metadata": {},
   "outputs": [
    {
     "name": "stdout",
     "output_type": "stream",
     "text": [
      "<class 'pandas.core.frame.DataFrame'>\n",
      "RangeIndex: 38751 entries, 0 to 38750\n",
      "Data columns (total 9 columns):\n",
      " #   Column               Non-Null Count  Dtype  \n",
      "---  ------               --------------  -----  \n",
      " 0   batting_team         38751 non-null  object \n",
      " 1   bowling_team         38751 non-null  object \n",
      " 2   city                 38751 non-null  object \n",
      " 3   current_score        38751 non-null  int64  \n",
      " 4   balls_left           38751 non-null  int64  \n",
      " 5   wickets_left         38751 non-null  int64  \n",
      " 6   current_run_rate     38751 non-null  float64\n",
      " 7   last_five_over_runs  38751 non-null  float64\n",
      " 8   final_score          38751 non-null  int64  \n",
      "dtypes: float64(2), int64(4), object(3)\n",
      "memory usage: 2.7+ MB\n"
     ]
    }
   ],
   "source": [
    "df.info()"
   ]
  },
  {
   "cell_type": "code",
   "execution_count": 58,
   "id": "0753d4b0",
   "metadata": {},
   "outputs": [],
   "source": [
    "from sklearn.model_selection import train_test_split\n",
    "X = df.drop(columns=['final_score'])\n",
    "y = df['final_score']\n",
    "X_train, X_test, y_train, y_test = train_test_split(X,y, test_size=0.2, random_state=42)"
   ]
  },
  {
   "cell_type": "code",
   "execution_count": 59,
   "id": "dde59147",
   "metadata": {},
   "outputs": [],
   "source": [
    "from sklearn.compose import ColumnTransformer\n",
    "from sklearn.pipeline import Pipeline\n",
    "from sklearn.preprocessing import OneHotEncoder, StandardScaler\n",
    "from sklearn.ensemble import RandomForestRegressor\n",
    "from xgboost import XGBRegressor\n",
    "from sklearn.metrics import r2_score, mean_absolute_error"
   ]
  },
  {
   "cell_type": "code",
   "execution_count": 60,
   "id": "3090e4a3",
   "metadata": {},
   "outputs": [],
   "source": [
    "transformer = ColumnTransformer(transformers=[\n",
    "    ('ohe', OneHotEncoder(sparse=False, drop='first'),['batting_team', 'bowling_team', 'city'] )\n",
    "], remainder='passthrough')"
   ]
  },
  {
   "cell_type": "code",
   "execution_count": 87,
   "id": "65f88ad6",
   "metadata": {},
   "outputs": [],
   "source": [
    "pipe = Pipeline(steps = [\n",
    "    ('step1', transformer ),\n",
    "    ('step2', StandardScaler()),\n",
    "    ('step3', XGBRegressor(n_estimators = 1390, learning_rate = 0.23, max_dept = 20, random_state = 42))\n",
    "])"
   ]
  },
  {
   "cell_type": "code",
   "execution_count": 88,
   "id": "e3cdc929",
   "metadata": {},
   "outputs": [
    {
     "name": "stderr",
     "output_type": "stream",
     "text": [
      "/Users/arjitsharma/opt/anaconda3/lib/python3.9/site-packages/xgboost/core.py:158: UserWarning: [12:02:18] WARNING: /Users/runner/work/xgboost/xgboost/src/learner.cc:740: \n",
      "Parameters: { \"max_dept\" } are not used.\n",
      "\n",
      "  warnings.warn(smsg, UserWarning)\n"
     ]
    },
    {
     "name": "stdout",
     "output_type": "stream",
     "text": [
      "0.9887041655448405 1.857128235343625\n"
     ]
    }
   ],
   "source": [
    "pipe.fit(X_train, y_train)\n",
    "y_pred = pipe.predict(X_test)\n",
    "r2Score = r2_score(y_pred,y_test)\n",
    "mae = mean_absolute_error(y_pred, y_test)\n",
    "print(r2Score, mae)"
   ]
  },
  {
   "cell_type": "code",
   "execution_count": null,
   "id": "0b0caed5",
   "metadata": {},
   "outputs": [],
   "source": []
  },
  {
   "cell_type": "code",
   "execution_count": null,
   "id": "40194df4",
   "metadata": {},
   "outputs": [],
   "source": []
  }
 ],
 "metadata": {
  "kernelspec": {
   "display_name": "Python 3 (ipykernel)",
   "language": "python",
   "name": "python3"
  },
  "language_info": {
   "codemirror_mode": {
    "name": "ipython",
    "version": 3
   },
   "file_extension": ".py",
   "mimetype": "text/x-python",
   "name": "python",
   "nbconvert_exporter": "python",
   "pygments_lexer": "ipython3",
   "version": "3.9.12"
  }
 },
 "nbformat": 4,
 "nbformat_minor": 5
}
